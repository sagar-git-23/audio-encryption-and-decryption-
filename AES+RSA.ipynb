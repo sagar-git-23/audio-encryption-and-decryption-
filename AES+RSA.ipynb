{
  "nbformat": 4,
  "nbformat_minor": 0,
  "metadata": {
    "colab": {
      "provenance": []
    },
    "kernelspec": {
      "name": "python3",
      "display_name": "Python 3"
    },
    "language_info": {
      "name": "python"
    }
  },
  "cells": [
    {
      "cell_type": "code",
      "source": [
        "!pip install pycryptodome"
      ],
      "metadata": {
        "colab": {
          "base_uri": "https://localhost:8080/"
        },
        "id": "gKUdvpor6KIW",
        "outputId": "12b7f1d3-0ae9-4b81-a13c-006d3db6e20f"
      },
      "execution_count": null,
      "outputs": [
        {
          "output_type": "stream",
          "name": "stdout",
          "text": [
            "Looking in indexes: https://pypi.org/simple, https://us-python.pkg.dev/colab-wheels/public/simple/\n",
            "Collecting pycryptodome\n",
            "  Downloading pycryptodome-3.17-cp35-abi3-manylinux_2_17_x86_64.manylinux2014_x86_64.whl (2.1 MB)\n",
            "\u001b[2K     \u001b[90m━━━━━━━━━━━━━━━━━━━━━━━━━━━━━━━━━━━━━━━━\u001b[0m \u001b[32m2.1/2.1 MB\u001b[0m \u001b[31m35.5 MB/s\u001b[0m eta \u001b[36m0:00:00\u001b[0m\n",
            "\u001b[?25hInstalling collected packages: pycryptodome\n",
            "Successfully installed pycryptodome-3.17\n"
          ]
        }
      ]
    },
    {
      "cell_type": "code",
      "source": [
        "from Crypto.Cipher import AES\n",
        "from Crypto.PublicKey import RSA\n",
        "from Crypto.Cipher import PKCS1_OAEP\n",
        "import os\n",
        "import time"
      ],
      "metadata": {
        "id": "WeM3jEJJ80xZ"
      },
      "execution_count": null,
      "outputs": []
    },
    {
      "cell_type": "markdown",
      "source": [
        "# **ENCRYPTION**"
      ],
      "metadata": {
        "id": "VUA_ShSwqdlH"
      }
    },
    {
      "cell_type": "code",
      "source": [
        "# Generate an AES key and initialization vector (IV)\n",
        "aes_key = os.urandom(32)\n",
        "iv = os.urandom(16)\n",
        "\n",
        "# Generate a new RSA key pair with a key size of 2048 bits\n",
        "key = RSA.generate(2048)\n",
        "\n",
        "# Save the private key to a file\n",
        "with open(\"private_key.pem\", \"wb\") as f:\n",
        "    f.write(key.export_key())\n",
        "\n",
        "# Save the public key to a file\n",
        "with open(\"public_key.pem\", \"wb\") as f:\n",
        "    f.write(key.publickey().export_key())"
      ],
      "metadata": {
        "id": "kKs8-rvW85jS"
      },
      "execution_count": null,
      "outputs": []
    },
    {
      "cell_type": "code",
      "execution_count": null,
      "metadata": {
        "id": "rpwedAzx0cwD"
      },
      "outputs": [],
      "source": [
        "# Encrypt audio file with AES\n",
        "t1=time.time()\n",
        "with open(\"/content/file_example_WAV_10MG.wav\", \"rb\") as f:\n",
        "    audio_data = f.read()\n",
        "    \n",
        "cipher = AES.new(aes_key, AES.MODE_CFB, iv)\n",
        "ciphertext = cipher.encrypt(audio_data)\n",
        "\n",
        "\n",
        "# Encrypt the AES key and IV with RSA\n",
        "public_key = RSA.import_key(open(\"public_key.pem\").read())\n",
        "cipher_rsa = PKCS1_OAEP.new(public_key)\n",
        "encrypted_aes_key = cipher_rsa.encrypt(aes_key)\n",
        "encrypted_iv = cipher_rsa.encrypt(iv)\n",
        "\n",
        "# Save the encrypted audio file, encrypted AES key, and encrypted IV to disk\n",
        "with open(\"encrypted_audio_file.wav\", \"wb\") as f:\n",
        "    f.write(ciphertext)\n",
        "\n",
        "with open(\"encrypted_aes_key.bin\", \"wb\") as f:\n",
        "    f.write(encrypted_aes_key)\n",
        "\n",
        "with open(\"encrypted_iv.bin\", \"wb\") as f:\n",
        "    f.write(encrypted_iv)"
      ]
    },
    {
      "cell_type": "code",
      "source": [
        "#time taken\n",
        "\n",
        "t2=time.time()\n",
        "print('Time taken for encryption - ',(t2-t1)*1000,'ms')"
      ],
      "metadata": {
        "colab": {
          "base_uri": "https://localhost:8080/"
        },
        "id": "lLppl8r6PfSD",
        "outputId": "54ee60a7-26ce-4895-a67d-b26207c742dc"
      },
      "execution_count": null,
      "outputs": [
        {
          "output_type": "stream",
          "name": "stdout",
          "text": [
            "Time taken for encryption -  531.6047668457031 ms\n"
          ]
        }
      ]
    },
    {
      "cell_type": "code",
      "source": [],
      "metadata": {
        "id": "-QYaQ-TjEcxU"
      },
      "execution_count": null,
      "outputs": []
    },
    {
      "cell_type": "markdown",
      "source": [
        "# **DECRYPTION**"
      ],
      "metadata": {
        "id": "LT2VXlRbqn1s"
      }
    },
    {
      "cell_type": "code",
      "source": [
        "#Decryption\n",
        "\n",
        "t3=time.time()\n",
        "# Load the encrypted audio file, encrypted AES key, and encrypted IV from disk\n",
        "with open(\"encrypted_audio_file.wav\", \"rb\") as f:\n",
        "    ciphertext = f.read()\n",
        "\n",
        "with open(\"encrypted_aes_key.bin\", \"rb\") as f:\n",
        "    encrypted_aes_key = f.read()\n",
        "\n",
        "with open(\"encrypted_iv.bin\", \"rb\") as f:\n",
        "    encrypted_iv = f.read()\n",
        "\n",
        "# Decrypt the AES key and IV with RSA\n",
        "private_key = RSA.import_key(open(\"private_key.pem\").read())\n",
        "cipher_rsa = PKCS1_OAEP.new(private_key)\n",
        "aes_key = cipher_rsa.decrypt(encrypted_aes_key)\n",
        "iv = cipher_rsa.decrypt(encrypted_iv)\n",
        "\n",
        "# Decrypt the audio file with AES\n",
        "cipher = AES.new(aes_key, AES.MODE_CFB, iv)\n",
        "audio_data = cipher.decrypt(ciphertext)\n",
        "\n",
        "# Save the decrypted audio file to disk\n",
        "with open(\"decrypted_audio_file.wav\", \"wb\") as f:\n",
        "    f.write(audio_data)\n"
      ],
      "metadata": {
        "id": "uRnYM92e5TYE"
      },
      "execution_count": null,
      "outputs": []
    },
    {
      "cell_type": "code",
      "source": [
        "#time taken\n",
        "\n",
        "t4=time.time()\n",
        "print('Time taken for decryption - ',(t4-t3)*1000,'ms')"
      ],
      "metadata": {
        "colab": {
          "base_uri": "https://localhost:8080/"
        },
        "id": "Cm3okG6mPrf5",
        "outputId": "81af2281-504e-401f-f86c-7dca55e7d424"
      },
      "execution_count": null,
      "outputs": [
        {
          "output_type": "stream",
          "name": "stdout",
          "text": [
            "Time taken for decryption -  609.5767021179199 ms\n"
          ]
        }
      ]
    }
  ]
}